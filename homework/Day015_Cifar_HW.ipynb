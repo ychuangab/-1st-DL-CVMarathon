{
 "cells": [
  {
   "cell_type": "markdown",
   "metadata": {},
   "source": [
    "## 『本次練習內容』\n",
    "#### 運用這幾天所學觀念搭建一個CNN分類器"
   ]
  },
  {
   "cell_type": "markdown",
   "metadata": {},
   "source": [
    "## 『本次練習目的』\n",
    "  #### 熟悉CNN分類器搭建步驟與原理\n",
    "  #### 學員們可以嘗試不同搭法，如使用不同的Maxpooling層，用GlobalAveragePooling取代Flatten等等"
   ]
  },
  {
   "cell_type": "code",
   "execution_count": 1,
   "metadata": {},
   "outputs": [
    {
     "name": "stderr",
     "output_type": "stream",
     "text": [
      "Using TensorFlow backend.\n"
     ]
    }
   ],
   "source": [
    "from keras.models import Sequential\n",
    "from keras.layers import Convolution2D\n",
    "from keras.layers import MaxPooling2D\n",
    "from keras.layers import Flatten\n",
    "from keras.layers import Dense\n",
    "from keras.layers import Dropout\n",
    "from keras.layers import BatchNormalization\n",
    "from keras.datasets import cifar10\n",
    "import numpy as np\n",
    "import tensorflow as tf\n",
    "from sklearn.preprocessing import OneHotEncoder\n",
    "from keras.callbacks import ReduceLROnPlateau\n",
    "#from keras.backend.tensorflow_backend import set_session\n",
    "\n"
   ]
  },
  {
   "cell_type": "code",
   "execution_count": 2,
   "metadata": {},
   "outputs": [
    {
     "name": "stdout",
     "output_type": "stream",
     "text": [
      "Device mapping:\n",
      "/job:localhost/replica:0/task:0/device:XLA_CPU:0 -> device: XLA_CPU device\n",
      "/job:localhost/replica:0/task:0/device:XLA_GPU:0 -> device: XLA_GPU device\n",
      "/job:localhost/replica:0/task:0/device:GPU:0 -> device: 0, name: GeForce RTX 2070, pci bus id: 0000:01:00.0, compute capability: 7.5\n",
      "\n",
      "Device mapping:\n",
      "/job:localhost/replica:0/task:0/device:XLA_CPU:0 -> device: XLA_CPU device\n",
      "/job:localhost/replica:0/task:0/device:XLA_GPU:0 -> device: XLA_GPU device\n",
      "/job:localhost/replica:0/task:0/device:GPU:0 -> device: 0, name: GeForce RTX 2070, pci bus id: 0000:01:00.0, compute capability: 7.5\n",
      "\n"
     ]
    }
   ],
   "source": [
    "# CUDNN_STATUS_INTERNAL_ERROR 於運行時出現, 重裝 cudnn 之後無效, suspect gpu ram issue\n",
    "# 利用動態分配GPU內存 problem solved.\n",
    "# ref: https://github.com/keras-team/keras/issues/4161\n",
    "def dynam_GPU_ram():\n",
    "    config = tf.compat.v1.ConfigProto()\n",
    "    config.gpu_options.allow_growth = True  # dynamically grow the memory used on the GPU\n",
    "    config.log_device_placement = True  # to log device placement (on which device the operation ran)\n",
    "    sess = tf.compat.v1.Session(config=config)\n",
    "    tf.compat.v1.keras.backend.set_session(tf.compat.v1.Session(config=config))\n",
    "\n",
    "    \n",
    "    \n",
    "dynam_GPU_ram()"
   ]
  },
  {
   "cell_type": "code",
   "execution_count": 3,
   "metadata": {},
   "outputs": [
    {
     "name": "stdout",
     "output_type": "stream",
     "text": [
      "(50000, 32, 32, 3)\n"
     ]
    }
   ],
   "source": [
    "(x_train, y_train), (x_test, y_test) = cifar10.load_data()\n",
    "\n",
    "print(x_train.shape) #(50000, 32, 32, 3)\n",
    "\n",
    "## Normalize Data\n",
    "def normalize(X_train,X_test):\n",
    "    mean = np.mean(X_train,axis=(0, 1, 2, 3))\n",
    "    std = np.std(X_train, axis=(0, 1, 2, 3))\n",
    "    X_train = (X_train-mean)/(std+1e-7)\n",
    "    X_test = (X_test-mean)/(std+1e-7)\n",
    "    return X_train, X_test, mean, std\n",
    "    \n",
    "    \n",
    "## Normalize Training and Testset    \n",
    "x_train, x_test, mean_train, std_train = normalize(x_train, x_test) "
   ]
  },
  {
   "cell_type": "code",
   "execution_count": 4,
   "metadata": {},
   "outputs": [],
   "source": [
    "## OneHot Label 由(None, 1)-(None, 10)\n",
    "## ex. label=2,變成[0,0,1,0,0,0,0,0,0,0]\n",
    "one_hot=OneHotEncoder()\n",
    "y_train=one_hot.fit_transform(y_train).toarray()\n",
    "y_test=one_hot.transform(y_test).toarray()"
   ]
  },
  {
   "cell_type": "code",
   "execution_count": 6,
   "metadata": {},
   "outputs": [
    {
     "name": "stderr",
     "output_type": "stream",
     "text": [
      "/media/ychuang/Data/ych/venv_list/dl_marathon/lib/python3.6/site-packages/ipykernel_launcher.py:33: UserWarning: Update your `Dense` call to the Keras 2 API: `Dense(activation=\"softmax\", units=10)`\n"
     ]
    },
    {
     "name": "stdout",
     "output_type": "stream",
     "text": [
      "Train on 42500 samples, validate on 7500 samples\n",
      "Epoch 1/20\n",
      "42500/42500 [==============================] - 6s 148us/step - loss: 5.9817 - accuracy: 0.4393 - val_loss: 4.0395 - val_accuracy: 0.2573\n",
      "Epoch 2/20\n",
      "42500/42500 [==============================] - 6s 144us/step - loss: 2.1862 - accuracy: 0.5638 - val_loss: 1.3471 - val_accuracy: 0.5353\n",
      "Epoch 3/20\n",
      "42500/42500 [==============================] - 6s 142us/step - loss: 1.0148 - accuracy: 0.6615 - val_loss: 1.4738 - val_accuracy: 0.5449\n",
      "Epoch 4/20\n",
      "42500/42500 [==============================] - 6s 142us/step - loss: 1.0089 - accuracy: 0.6727 - val_loss: 1.1223 - val_accuracy: 0.6259\n",
      "Epoch 5/20\n",
      "42500/42500 [==============================] - 6s 141us/step - loss: 0.8303 - accuracy: 0.7118 - val_loss: 1.0687 - val_accuracy: 0.6503\n",
      "Epoch 6/20\n",
      "42500/42500 [==============================] - 6s 143us/step - loss: 0.7919 - accuracy: 0.7261 - val_loss: 1.1409 - val_accuracy: 0.6229\n",
      "Epoch 7/20\n",
      "42500/42500 [==============================] - 6s 142us/step - loss: 0.7935 - accuracy: 0.7267 - val_loss: 1.1719 - val_accuracy: 0.6180\n",
      "Epoch 8/20\n",
      "42500/42500 [==============================] - 6s 143us/step - loss: 0.6771 - accuracy: 0.7654 - val_loss: 1.2554 - val_accuracy: 0.6197\n",
      "\n",
      "Epoch 00008: ReduceLROnPlateau reducing learning rate to 0.0004000000189989805.\n",
      "Epoch 9/20\n",
      "42500/42500 [==============================] - 6s 142us/step - loss: 0.5273 - accuracy: 0.8218 - val_loss: 1.1419 - val_accuracy: 0.6465\n",
      "Epoch 10/20\n",
      "42500/42500 [==============================] - 6s 142us/step - loss: 0.4640 - accuracy: 0.8418 - val_loss: 1.1372 - val_accuracy: 0.6588\n",
      "Epoch 11/20\n",
      "42500/42500 [==============================] - 6s 143us/step - loss: 0.4296 - accuracy: 0.8535 - val_loss: 1.1822 - val_accuracy: 0.6612\n",
      "\n",
      "Epoch 00011: ReduceLROnPlateau reducing learning rate to 0.00016000000759959222.\n",
      "Epoch 12/20\n",
      "42500/42500 [==============================] - 6s 143us/step - loss: 0.3109 - accuracy: 0.9015 - val_loss: 1.1527 - val_accuracy: 0.6705\n",
      "Epoch 13/20\n",
      "42500/42500 [==============================] - 6s 143us/step - loss: 0.2804 - accuracy: 0.9128 - val_loss: 1.2383 - val_accuracy: 0.6639\n",
      "Epoch 14/20\n",
      "42500/42500 [==============================] - 6s 142us/step - loss: 0.3163 - accuracy: 0.8961 - val_loss: 1.2630 - val_accuracy: 0.6652\n",
      "\n",
      "Epoch 00014: ReduceLROnPlateau reducing learning rate to 6.40000042039901e-05.\n",
      "Epoch 15/20\n",
      "42500/42500 [==============================] - 6s 141us/step - loss: 0.2254 - accuracy: 0.9344 - val_loss: 1.2456 - val_accuracy: 0.6677\n",
      "Epoch 16/20\n",
      "42500/42500 [==============================] - 6s 142us/step - loss: 0.2042 - accuracy: 0.9448 - val_loss: 1.2686 - val_accuracy: 0.6656\n",
      "Epoch 17/20\n",
      "42500/42500 [==============================] - 6s 142us/step - loss: 0.1942 - accuracy: 0.9478 - val_loss: 1.3154 - val_accuracy: 0.6661\n",
      "\n",
      "Epoch 00017: ReduceLROnPlateau reducing learning rate to 2.560000284574926e-05.\n",
      "Epoch 18/20\n",
      "42500/42500 [==============================] - 6s 142us/step - loss: 0.1845 - accuracy: 0.9514 - val_loss: 1.3026 - val_accuracy: 0.6665\n",
      "Epoch 19/20\n",
      "42500/42500 [==============================] - 6s 142us/step - loss: 0.1690 - accuracy: 0.9589 - val_loss: 1.3124 - val_accuracy: 0.6648\n",
      "Epoch 20/20\n",
      "42500/42500 [==============================] - 6s 143us/step - loss: 0.1622 - accuracy: 0.9612 - val_loss: 1.3291 - val_accuracy: 0.6647\n",
      "\n",
      "Epoch 00020: ReduceLROnPlateau reducing learning rate to 1.0240000847261399e-05.\n"
     ]
    },
    {
     "data": {
      "text/plain": [
       "<keras.callbacks.callbacks.History at 0x7efcf0f43080>"
      ]
     },
     "execution_count": 6,
     "metadata": {},
     "output_type": "execute_result"
    }
   ],
   "source": [
    "input_shape = x_train.shape[1:]\n",
    "\n",
    "# Define keras callback function\n",
    "learning_rate_reduction = ReduceLROnPlateau(monitor='val_loss', \n",
    "                                            patience=3, \n",
    "                                            verbose=1, \n",
    "                                            factor=0.4, \n",
    "                                            min_lr=1e-8)\n",
    "callbacks_list = [learning_rate_reduction]\n",
    "\n",
    "#Start\n",
    "classifier=Sequential()\n",
    "\n",
    "#卷積組合\n",
    "classifier.add(Convolution2D(filters=32, kernel_size=(3,3), strides=1, input_shape=input_shape, padding='same', activation='relu'))#32,3,3,input_shape=(32,32,3),activation='relu''\n",
    "classifier.add(BatchNormalization())\n",
    "\n",
    "'''自己決定MaxPooling2D放在哪裡'''\n",
    "#classifier.add(MaxPooling2D(pool_size=(2,2)))\n",
    "\n",
    "#卷積組合\n",
    "classifier.add(Convolution2D(filters=64, kernel_size=(3,3), strides=1, padding='same', activation='relu'))\n",
    "classifier.add(BatchNormalization())\n",
    "classifier.add(MaxPooling2D(pool_size=(2,2)))\n",
    "\n",
    "#flatten\n",
    "classifier.add(Flatten())\n",
    "\n",
    "#FC\n",
    "classifier.add(Dense(256)) #output_dim=100,activation=relu\n",
    "\n",
    "#輸出\n",
    "classifier.add(Dense(output_dim=10,activation='softmax'))\n",
    "\n",
    "#超過兩個就要選categorical_crossentrophy\n",
    "classifier.compile(optimizer = 'adam', loss = 'categorical_crossentropy', metrics = ['accuracy'])\n",
    "classifier.fit(x_train,y_train,batch_size=256,epochs=20,validation_split=0.15, callbacks=callbacks_list)"
   ]
  },
  {
   "cell_type": "markdown",
   "metadata": {},
   "source": [
    "## 預測新圖片，輸入影像前處理要與訓練時相同\n",
    "#### ((X-mean)/(std+1e-7) ):這裡的mean跟std是訓練集的\n",
    "## 維度如下方示範"
   ]
  },
  {
   "cell_type": "code",
   "execution_count": 7,
   "metadata": {},
   "outputs": [],
   "source": [
    "input_example=(np.zeros(shape=(1,32,32,3))-mean_train)/(std_train+1e-7) \n",
    "y_pred = classifier.predict(x_test).argmax(-1)"
   ]
  },
  {
   "cell_type": "code",
   "execution_count": 8,
   "metadata": {},
   "outputs": [
    {
     "data": {
      "text/plain": [
       "0.6596"
      ]
     },
     "execution_count": 8,
     "metadata": {},
     "output_type": "execute_result"
    }
   ],
   "source": [
    "np.sum(y_test.argmax(-1) == y_pred)/y_test.shape[0]"
   ]
  }
 ],
 "metadata": {
  "kernelspec": {
   "display_name": "Python 3",
   "language": "python",
   "name": "python3"
  },
  "language_info": {
   "codemirror_mode": {
    "name": "ipython",
    "version": 3
   },
   "file_extension": ".py",
   "mimetype": "text/x-python",
   "name": "python",
   "nbconvert_exporter": "python",
   "pygments_lexer": "ipython3",
   "version": "3.6.9"
  }
 },
 "nbformat": 4,
 "nbformat_minor": 4
}
