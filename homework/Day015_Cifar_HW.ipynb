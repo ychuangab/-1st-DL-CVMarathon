{
 "cells": [
  {
   "cell_type": "markdown",
   "metadata": {},
   "source": [
    "## 『本次練習內容』\n",
    "#### 運用這幾天所學觀念搭建一個CNN分類器"
   ]
  },
  {
   "cell_type": "markdown",
   "metadata": {},
   "source": [
    "## 『本次練習目的』\n",
    "  #### 熟悉CNN分類器搭建步驟與原理\n",
    "  #### 學員們可以嘗試不同搭法，如使用不同的Maxpooling層，用GlobalAveragePooling取代Flatten等等"
   ]
  },
  {
   "cell_type": "code",
   "execution_count": 43,
   "metadata": {},
   "outputs": [],
   "source": [
    "from keras.models import Sequential\n",
    "from keras.layers import Convolution2D\n",
    "from keras.layers import MaxPooling2D\n",
    "from keras.layers import Flatten\n",
    "from keras.layers import Dense\n",
    "from keras.layers import Dropout\n",
    "from keras.layers import BatchNormalization\n",
    "from keras.datasets import cifar10\n",
    "import numpy as np\n",
    "import tensorflow as tf\n",
    "from sklearn.preprocessing import OneHotEncoder\n",
    "from keras.callbacks import ReduceLROnPlateau\n",
    "#from keras.backend.tensorflow_backend import set_session\n",
    "\n"
   ]
  },
  {
   "cell_type": "code",
   "execution_count": 6,
   "metadata": {},
   "outputs": [
    {
     "name": "stdout",
     "output_type": "stream",
     "text": [
      "Device mapping:\n",
      "/job:localhost/replica:0/task:0/device:XLA_CPU:0 -> device: XLA_CPU device\n",
      "/job:localhost/replica:0/task:0/device:XLA_GPU:0 -> device: XLA_GPU device\n",
      "/job:localhost/replica:0/task:0/device:GPU:0 -> device: 0, name: GeForce RTX 2070, pci bus id: 0000:01:00.0, compute capability: 7.5\n",
      "\n",
      "Device mapping:\n",
      "/job:localhost/replica:0/task:0/device:XLA_CPU:0 -> device: XLA_CPU device\n",
      "/job:localhost/replica:0/task:0/device:XLA_GPU:0 -> device: XLA_GPU device\n",
      "/job:localhost/replica:0/task:0/device:GPU:0 -> device: 0, name: GeForce RTX 2070, pci bus id: 0000:01:00.0, compute capability: 7.5\n",
      "\n"
     ]
    }
   ],
   "source": [
    "# CUDNN_STATUS_INTERNAL_ERROR 於運行時出現, 重裝 cudnn 之後無效, suspect gpu ram issue\n",
    "# 利用動態分配GPU內存 problem solved.\n",
    "# ref: https://github.com/keras-team/keras/issues/4161\n",
    "def dynam_GPU_ram():\n",
    "    config = tf.compat.v1.ConfigProto()\n",
    "    config.gpu_options.allow_growth = True  # dynamically grow the memory used on the GPU\n",
    "    config.log_device_placement = True  # to log device placement (on which device the operation ran)\n",
    "    sess = tf.compat.v1.Session(config=config)\n",
    "    tf.compat.v1.keras.backend.set_session(tf.compat.v1.Session(config=config))\n",
    "\n",
    "    \n",
    "    \n",
    "dynam_GPU_ram()"
   ]
  },
  {
   "cell_type": "code",
   "execution_count": 7,
   "metadata": {},
   "outputs": [
    {
     "name": "stdout",
     "output_type": "stream",
     "text": [
      "(50000, 32, 32, 3)\n"
     ]
    }
   ],
   "source": [
    "(x_train, y_train), (x_test, y_test) = cifar10.load_data()\n",
    "\n",
    "print(x_train.shape) #(50000, 32, 32, 3)\n",
    "\n",
    "## Normalize Data\n",
    "def normalize(X_train,X_test):\n",
    "    mean = np.mean(X_train,axis=(0, 1, 2, 3))\n",
    "    std = np.std(X_train, axis=(0, 1, 2, 3))\n",
    "    X_train = (X_train-mean)/(std+1e-7)\n",
    "    X_test = (X_test-mean)/(std+1e-7)\n",
    "    return X_train, X_test, mean, std\n",
    "    \n",
    "    \n",
    "## Normalize Training and Testset    \n",
    "x_train, x_test, mean_train, std_train = normalize(x_train, x_test) "
   ]
  },
  {
   "cell_type": "code",
   "execution_count": 8,
   "metadata": {},
   "outputs": [],
   "source": [
    "## OneHot Label 由(None, 1)-(None, 10)\n",
    "## ex. label=2,變成[0,0,1,0,0,0,0,0,0,0]\n",
    "one_hot=OneHotEncoder()\n",
    "y_train=one_hot.fit_transform(y_train).toarray()\n",
    "y_test=one_hot.transform(y_test).toarray()"
   ]
  },
  {
   "cell_type": "code",
   "execution_count": 45,
   "metadata": {},
   "outputs": [
    {
     "name": "stderr",
     "output_type": "stream",
     "text": [
      "/media/ychuang/Data/ych/venv_list/dl_marathon/lib/python3.6/site-packages/ipykernel_launcher.py:31: UserWarning: Update your `Dense` call to the Keras 2 API: `Dense(activation=\"softmax\", units=10)`\n"
     ]
    },
    {
     "name": "stdout",
     "output_type": "stream",
     "text": [
      "Train on 42500 samples, validate on 7500 samples\n",
      "Epoch 1/20\n",
      "42500/42500 [==============================] - 6s 151us/step - loss: 6.2660 - accuracy: 0.4130 - val_loss: 6.2735 - val_accuracy: 0.2160\n",
      "Epoch 2/20\n",
      "42500/42500 [==============================] - 6s 142us/step - loss: 2.2679 - accuracy: 0.5452 - val_loss: 1.4396 - val_accuracy: 0.5132\n",
      "Epoch 3/20\n",
      "42500/42500 [==============================] - 6s 142us/step - loss: 1.0304 - accuracy: 0.6547 - val_loss: 1.4424 - val_accuracy: 0.5395\n",
      "Epoch 4/20\n",
      "42500/42500 [==============================] - 6s 143us/step - loss: 1.0011 - accuracy: 0.6660 - val_loss: 1.1816 - val_accuracy: 0.6036\n",
      "Epoch 5/20\n",
      "42500/42500 [==============================] - 6s 143us/step - loss: 0.8507 - accuracy: 0.7057 - val_loss: 1.1184 - val_accuracy: 0.6143\n",
      "Epoch 6/20\n",
      "42500/42500 [==============================] - 6s 142us/step - loss: 0.7629 - accuracy: 0.7302 - val_loss: 1.2315 - val_accuracy: 0.6220\n",
      "Epoch 7/20\n",
      "42500/42500 [==============================] - 6s 144us/step - loss: 0.7853 - accuracy: 0.7312 - val_loss: 1.1067 - val_accuracy: 0.6325\n",
      "Epoch 8/20\n",
      "42500/42500 [==============================] - 6s 144us/step - loss: 0.6850 - accuracy: 0.7612 - val_loss: 1.1838 - val_accuracy: 0.6151\n",
      "Epoch 9/20\n",
      "42500/42500 [==============================] - 6s 142us/step - loss: 0.6607 - accuracy: 0.7694 - val_loss: 1.2500 - val_accuracy: 0.6209\n",
      "Epoch 10/20\n",
      "42500/42500 [==============================] - 6s 144us/step - loss: 0.5922 - accuracy: 0.7896 - val_loss: 1.3060 - val_accuracy: 0.6304\n",
      "\n",
      "Epoch 00010: ReduceLROnPlateau reducing learning rate to 0.0004000000189989805.\n",
      "Epoch 11/20\n",
      "42500/42500 [==============================] - 6s 143us/step - loss: 0.4415 - accuracy: 0.8483 - val_loss: 1.1231 - val_accuracy: 0.6717\n",
      "Epoch 12/20\n",
      "42500/42500 [==============================] - 6s 140us/step - loss: 0.3183 - accuracy: 0.8947 - val_loss: 1.3089 - val_accuracy: 0.6583\n",
      "Epoch 13/20\n",
      "42500/42500 [==============================] - 6s 137us/step - loss: 0.3728 - accuracy: 0.8752 - val_loss: 1.3717 - val_accuracy: 0.6608\n",
      "\n",
      "Epoch 00013: ReduceLROnPlateau reducing learning rate to 0.00016000000759959222.\n",
      "Epoch 14/20\n",
      "42500/42500 [==============================] - 6s 144us/step - loss: 0.2345 - accuracy: 0.9280 - val_loss: 1.3321 - val_accuracy: 0.6639\n",
      "Epoch 15/20\n",
      "42500/42500 [==============================] - 6s 143us/step - loss: 0.1822 - accuracy: 0.9471 - val_loss: 1.3850 - val_accuracy: 0.6632\n",
      "Epoch 16/20\n",
      "42500/42500 [==============================] - 6s 144us/step - loss: 0.1551 - accuracy: 0.9585 - val_loss: 1.4342 - val_accuracy: 0.6681\n",
      "\n",
      "Epoch 00016: ReduceLROnPlateau reducing learning rate to 6.40000042039901e-05.\n",
      "Epoch 17/20\n",
      "42500/42500 [==============================] - 6s 144us/step - loss: 0.1138 - accuracy: 0.9760 - val_loss: 1.4655 - val_accuracy: 0.6673\n",
      "Epoch 18/20\n",
      "42500/42500 [==============================] - 6s 144us/step - loss: 0.1059 - accuracy: 0.9780 - val_loss: 1.4981 - val_accuracy: 0.6663\n",
      "Epoch 19/20\n",
      "42500/42500 [==============================] - 6s 144us/step - loss: 0.0987 - accuracy: 0.9812 - val_loss: 1.5290 - val_accuracy: 0.6683\n",
      "\n",
      "Epoch 00019: ReduceLROnPlateau reducing learning rate to 2.560000284574926e-05.\n",
      "Epoch 20/20\n",
      "42500/42500 [==============================] - 6s 144us/step - loss: 0.0892 - accuracy: 0.9845 - val_loss: 1.5348 - val_accuracy: 0.6656\n"
     ]
    },
    {
     "data": {
      "text/plain": [
       "<keras.callbacks.callbacks.History at 0x7fe8023970f0>"
      ]
     },
     "execution_count": 45,
     "metadata": {},
     "output_type": "execute_result"
    }
   ],
   "source": [
    "input_shape = x_train.shape[1:]\n",
    "\n",
    "# Define keras callback function\n",
    "learning_rate_reduction = ReduceLROnPlateau(monitor='val_loss', \n",
    "                                            patience=3, \n",
    "                                            verbose=1, \n",
    "                                            factor=0.4, \n",
    "                                            min_lr=1e-8)\n",
    "callbacks_list = [learning_rate_reduction]\n",
    "\n",
    "#Start\n",
    "classifier=Sequential()\n",
    "\n",
    "#卷積組合\n",
    "classifier.add(Convolution2D(filters=32, kernel_size=(3,3), strides=1, input_shape=input_shape, padding='same', activation='relu'))#32,3,3,input_shape=(32,32,3),activation='relu''\n",
    "classifier.add(BatchNormalization())\n",
    "\n",
    "'''自己決定MaxPooling2D放在哪裡'''\n",
    "#classifier.add(MaxPooling2D(pool_size=(2,2)))\n",
    "\n",
    "#卷積組合\n",
    "classifier.add(Convolution2D(filters=64, kernel_size=(3,3), strides=1, padding='same', activation='relu'))\n",
    "classifier.add(BatchNormalization())\n",
    "classifier.add(MaxPooling2D(pool_size=(2,2)))\n",
    "\n",
    "#flatten\n",
    "classifier.add(Flatten())\n",
    "\n",
    "#FC\n",
    "classifier.add(Dense(256)) #output_dim=100,activation=relu\n",
    "\n",
    "#輸出\n",
    "classifier.add(Dense(output_dim=10,activation='softmax'))\n",
    "\n",
    "#超過兩個就要選categorical_crossentrophy\n",
    "classifier.compile(optimizer = 'adam', loss = 'categorical_crossentropy', metrics = ['accuracy'])\n",
    "classifier.fit(x_train,y_train,batch_size=256,epochs=20,validation_split=0.15, callbacks=callbacks_list)"
   ]
  },
  {
   "cell_type": "markdown",
   "metadata": {},
   "source": [
    "## 預測新圖片，輸入影像前處理要與訓練時相同\n",
    "#### ((X-mean)/(std+1e-7) ):這裡的mean跟std是訓練集的\n",
    "## 維度如下方示範"
   ]
  },
  {
   "cell_type": "code",
   "execution_count": 34,
   "metadata": {},
   "outputs": [],
   "source": [
    "input_example=(np.zeros(shape=(1,32,32,3))-mean_train)/(std_train+1e-7) \n",
    "y_pred = classifier.predict(x_test).argmax(-1)"
   ]
  },
  {
   "cell_type": "code",
   "execution_count": 40,
   "metadata": {},
   "outputs": [
    {
     "data": {
      "text/plain": [
       "0.6402"
      ]
     },
     "execution_count": 40,
     "metadata": {},
     "output_type": "execute_result"
    }
   ],
   "source": [
    "np.sum(y_test.argmax(-1) == y_pred)/y_test.shape[0]"
   ]
  }
 ],
 "metadata": {
  "kernelspec": {
   "display_name": "Python 3",
   "language": "python",
   "name": "python3"
  },
  "language_info": {
   "codemirror_mode": {
    "name": "ipython",
    "version": 3
   },
   "file_extension": ".py",
   "mimetype": "text/x-python",
   "name": "python",
   "nbconvert_exporter": "python",
   "pygments_lexer": "ipython3",
   "version": "3.6.9"
  }
 },
 "nbformat": 4,
 "nbformat_minor": 4
}
