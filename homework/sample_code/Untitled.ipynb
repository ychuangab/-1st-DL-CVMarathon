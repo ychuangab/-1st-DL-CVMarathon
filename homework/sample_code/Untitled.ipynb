{
 "cells": [
  {
   "cell_type": "code",
   "execution_count": 37,
   "metadata": {},
   "outputs": [
    {
     "name": "stdout",
     "output_type": "stream",
     "text": [
      "0123456789abcdefghijklmnopqrstuvwxyz\n"
     ]
    },
    {
     "data": {
      "text/plain": [
       "Text(0.5, 1.0, 'kn3c')"
      ]
     },
     "execution_count": 37,
     "metadata": {},
     "output_type": "execute_result"
    },
    {
     "data": {
      "image/png": "[encoded data removed]",
      "text/plain": [
       "<Figure size 432x288 with 1 Axes>"
      ]
     },
     "metadata": {
      "needs_background": "light"
     },
     "output_type": "display_data"
    }
   ],
   "source": [
    "%matplotlib inline\n",
    "from captcha.image import ImageCaptcha\n",
    "import matplotlib.pyplot as plt\n",
    "import numpy as np\n",
    "import random\n",
    "import string\n",
    "\n",
    "characters = string.digits + string.ascii_lowercase\n",
    "print(characters)\n",
    "\n",
    "width, height, n_len, n_class = 170, 80, 4, len(characters)\n",
    "\n",
    "generator = ImageCaptcha(width=width, height=height)\n",
    "random_str = ''.join([random.choice(characters) for j in range(4)])\n",
    "img = generator.create_captcha_image(random_str, (1, 1, 255), (255, 255, 255))\n",
    "#img.save(\"generate.png\")\n",
    "#img.show()\n",
    "plt.imshow(img)\n",
    "plt.title(random_str)"
   ]
  },
  {
   "cell_type": "code",
   "execution_count": null,
   "metadata": {},
   "outputs": [],
   "source": []
  },
  {
   "cell_type": "code",
   "execution_count": 38,
   "metadata": {},
   "outputs": [],
   "source": []
  },
  {
   "cell_type": "code",
   "execution_count": 54,
   "metadata": {},
   "outputs": [
    {
     "data": {
      "image/png": "[encoded data removed]",
      "text/plain": [
       "<PIL.Image.Image image mode=RGB size=100x20 at 0x7FB1D0443F60>"
      ]
     },
     "execution_count": 54,
     "metadata": {},
     "output_type": "execute_result"
    }
   ],
   "source": [
    "from PIL import Image, ImageDraw, ImageFont\n",
    "captcha = Image.new('RGB', (100, 20), 'white')\n",
    "font = ImageFont.truetype('Lato-Black.ttf', 16)\n",
    "draw = ImageDraw.Draw(captcha) # 字符繪製位置, 繪製的字符, 制定字體, 字符顏色\n",
    "draw.text((0,0), 'hello world', font=font, fill='black')\n",
    "captcha"
   ]
  },
  {
   "cell_type": "code",
   "execution_count": null,
   "metadata": {},
   "outputs": [],
   "source": []
  },
  {
   "cell_type": "code",
   "execution_count": 43,
   "metadata": {},
   "outputs": [
    {
     "data": {
      "text/plain": [
       "array([-0.04566664, -0.04948561,  0.003929  , -0.04558941])"
      ]
     },
     "execution_count": 43,
     "metadata": {},
     "output_type": "execute_result"
    }
   ],
   "source": [
    "import gym\n",
    "env = gym.make('CartPole-v0')\n",
    "env.reset()"
   ]
  },
  {
   "cell_type": "code",
   "execution_count": 20,
   "metadata": {},
   "outputs": [
    {
     "data": {
      "text/plain": [
       "True"
      ]
     },
     "execution_count": 20,
     "metadata": {},
     "output_type": "execute_result"
    }
   ],
   "source": [
    "env.render()"
   ]
  },
  {
   "cell_type": "code",
   "execution_count": 59,
   "metadata": {},
   "outputs": [
    {
     "data": {
      "text/plain": [
       "(array([ 0.16655415,  1.14167984, -0.39557202, -2.41824082]), 0.0, True, {})"
      ]
     },
     "execution_count": 59,
     "metadata": {},
     "output_type": "execute_result"
    }
   ],
   "source": [
    "env.step(env.action_space.sample())"
   ]
  },
  {
   "cell_type": "code",
   "execution_count": 18,
   "metadata": {},
   "outputs": [
    {
     "name": "stdout",
     "output_type": "stream",
     "text": [
      "Episode finished after 14 timesteps, total rewards 14.0\n",
      "Episode finished after 12 timesteps, total rewards 12.0\n",
      "Episode finished after 28 timesteps, total rewards 28.0\n",
      "Episode finished after 29 timesteps, total rewards 29.0\n",
      "Episode finished after 19 timesteps, total rewards 19.0\n",
      "Episode finished after 57 timesteps, total rewards 57.0\n",
      "Episode finished after 15 timesteps, total rewards 15.0\n",
      "Episode finished after 16 timesteps, total rewards 16.0\n",
      "Episode finished after 21 timesteps, total rewards 21.0\n",
      "Episode finished after 35 timesteps, total rewards 35.0\n"
     ]
    }
   ],
   "source": [
    "###  environment 只有四種 feature（小車位置，小車速度，柱子角度，柱尖速度），agent 只有兩種 action（向左移，向右移）\n",
    "# 跑 200 個 episode，每個 episode 都是一次任務嘗試\n",
    "for i_episode in range(10):\n",
    "    observation = env.reset() # 讓 environment 重回初始狀態 \n",
    "    rewards = 0 # 累計各 episode 的 reward \n",
    "    for t in range(250): # 設個時限，每個 episode 最多跑 250 個 action\n",
    "        env.render() # 呈現 environment\n",
    "\n",
    "        # Key section\n",
    "        action = env.action_space.sample() # 在 environment 提供的 action 中隨機挑選\n",
    "        observation, reward, done, info = env.step(action) # 進行 action，environment 返回該 action 的 reward 及前進下個 state\n",
    "\n",
    "        rewards += reward # 累計 reward\n",
    "\n",
    "        if done: # 任務結束返回 done = True\n",
    "            print('Episode finished after {} timesteps, total rewards {}'.format(t+1, rewards))\n",
    "            break\n",
    "\n",
    "env.close()"
   ]
  },
  {
   "cell_type": "code",
   "execution_count": 96,
   "metadata": {},
   "outputs": [
    {
     "data": {
      "text/plain": [
       "0"
      ]
     },
     "execution_count": 96,
     "metadata": {},
     "output_type": "execute_result"
    }
   ],
   "source": [
    "env."
   ]
  },
  {
   "cell_type": "code",
   "execution_count": 36,
   "metadata": {},
   "outputs": [
    {
     "data": {
      "text/plain": [
       "<TimeLimit<CartPoleEnv<CartPole-v0>>>"
      ]
     },
     "execution_count": 36,
     "metadata": {},
     "output_type": "execute_result"
    }
   ],
   "source": [
    "env"
   ]
  },
  {
   "cell_type": "code",
   "execution_count": null,
   "metadata": {},
   "outputs": [],
   "source": []
  },
  {
   "cell_type": "code",
   "execution_count": 63,
   "metadata": {},
   "outputs": [],
   "source": [
    "import math\n",
    "import numpy as np"
   ]
  },
  {
   "cell_type": "code",
   "execution_count": 75,
   "metadata": {},
   "outputs": [],
   "source": [
    "env = gym.make('CartPole-v0')\n",
    "\n",
    "# 準備 Q table\n",
    "## Environment 中各個 feature 的 bucket 分配數量\n",
    "## 1 代表任何值皆表同一 state，也就是這個 feature 其實不重要\n",
    "n_buckets = (1, 1, 6, 3)\n",
    "\n",
    "## Action 數量 \n",
    "n_actions = env.action_space.n\n",
    "\n",
    "## State 範圍 \n",
    "state_bounds = list(zip(env.observation_space.low, env.observation_space.high))\n",
    "state_bounds[1] = [-0.5, 0.5]\n",
    "state_bounds[3] = [-math.radians(50), math.radians(50)]\n",
    "\n",
    "## Q table，每個 state-action pair 存一值 \n",
    "q_table = np.zeros(n_buckets + (n_actions,))\n"
   ]
  },
  {
   "cell_type": "code",
   "execution_count": 77,
   "metadata": {},
   "outputs": [
    {
     "data": {
      "text/plain": [
       "(1, 1, 6, 3, 2)"
      ]
     },
     "execution_count": 77,
     "metadata": {},
     "output_type": "execute_result"
    }
   ],
   "source": [
    "q_table.shape"
   ]
  },
  {
   "cell_type": "code",
   "execution_count": 72,
   "metadata": {},
   "outputs": [
    {
     "data": {
      "text/plain": [
       "[(-4.8, 4.8),\n",
       " (-3.4028235e+38, 3.4028235e+38),\n",
       " (-0.41887903, 0.41887903),\n",
       " (-3.4028235e+38, 3.4028235e+38)]"
      ]
     },
     "execution_count": 72,
     "metadata": {},
     "output_type": "execute_result"
    }
   ],
   "source": [
    "list(zip(env.observation_space.low, env.observation_space.high))"
   ]
  },
  {
   "cell_type": "code",
   "execution_count": 76,
   "metadata": {},
   "outputs": [
    {
     "data": {
      "text/plain": [
       "[(-4.8, 4.8),\n",
       " [-0.5, 0.5],\n",
       " (-0.41887903, 0.41887903),\n",
       " [-0.8726646259971648, 0.8726646259971648]]"
      ]
     },
     "execution_count": 76,
     "metadata": {},
     "output_type": "execute_result"
    }
   ],
   "source": [
    "state_bounds"
   ]
  },
  {
   "cell_type": "code",
   "execution_count": null,
   "metadata": {},
   "outputs": [],
   "source": []
  },
  {
   "cell_type": "code",
   "execution_count": null,
   "metadata": {},
   "outputs": [],
   "source": []
  },
  {
   "cell_type": "code",
   "execution_count": 88,
   "metadata": {},
   "outputs": [
    {
     "data": {
      "text/plain": [
       "(0, 0, 3, 1)"
      ]
     },
     "execution_count": 88,
     "metadata": {},
     "output_type": "execute_result"
    }
   ],
   "source": [
    "def get_state(observation, n_buckets, state_bounds):\n",
    "    state = [0] * len(observation) \n",
    "    for i, s in enumerate(observation): # 每個 feature 有不同的分配\n",
    "        l, u = state_bounds[i][0], state_bounds[i][1] # 每個 feature 值的範圍上下限\n",
    "        if s <= l: # 低於下限，分配為 0\n",
    "            state[i] = 0\n",
    "        elif s >= u: # 高於上限，分配為最大值\n",
    "            state[i] = n_buckets[i] - 1\n",
    "        else: # 範圍內，依比例分配\n",
    "            state[i] = int(((s - l) / (u - l)) * n_buckets[i])\n",
    "\n",
    "    return tuple(state)\n",
    "\n",
    "\n",
    "# 準備 Q table\n",
    "## Environment 中各個 feature 的 bucket 分配數量\n",
    "## 1 代表任何值皆表同一 state，也就是這個 feature 其實不重要\n",
    "n_buckets = (1, 1, 6, 3)\n",
    "\n",
    "## Action 數量 \n",
    "n_actions = env.action_space.n\n",
    "\n",
    "## State 範圍 \n",
    "state_bounds = list(zip(env.observation_space.low, env.observation_space.high))\n",
    "state_bounds[1] = [-0.5, 0.5]\n",
    "state_bounds[3] = [-math.radians(50), math.radians(50)]\n",
    "\n",
    "observation = env.reset()\n",
    "state = get_state(observation, n_buckets, state_bounds) # 將連續值轉成離散 \n",
    "\n",
    "state"
   ]
  },
  {
   "cell_type": "code",
   "execution_count": 79,
   "metadata": {},
   "outputs": [
    {
     "data": {
      "text/plain": [
       "(0, 0, 2, 1)"
      ]
     },
     "execution_count": 79,
     "metadata": {},
     "output_type": "execute_result"
    }
   ],
   "source": []
  }
 ],
 "metadata": {
  "kernelspec": {
   "display_name": "Python 3",
   "language": "python",
   "name": "python3"
  },
  "language_info": {
   "codemirror_mode": {
    "name": "ipython",
    "version": 3
   },
   "file_extension": ".py",
   "mimetype": "text/x-python",
   "name": "python",
   "nbconvert_exporter": "python",
   "pygments_lexer": "ipython3",
   "version": "3.6.9"
  }
 },
 "nbformat": 4,
 "nbformat_minor": 4
}
